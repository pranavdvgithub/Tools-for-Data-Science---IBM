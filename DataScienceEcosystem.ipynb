{
 "cells": [
  {
   "cell_type": "markdown",
   "id": "bb2e33e4",
   "metadata": {},
   "source": [
    "  #  Data Science Tools and Ecosystem "
   ]
  },
  {
   "cell_type": "markdown",
   "id": "e02c14f0",
   "metadata": {},
   "source": [
    " In this notebook, Data Science Tools and Ecosystem are summarized. Notebooks provide a data visualization framework called Qviz that enables you to visualize dataframes with improved charting options"
   ]
  },
  {
   "cell_type": "markdown",
   "id": "ca72f4cd",
   "metadata": {},
   "source": [
    "   **Objectives**\n",
    "   - \n",
    "   \n",
    "    "
   ]
  },
  {
   "cell_type": "markdown",
   "id": "c2cb6162",
   "metadata": {},
   "source": [
    "Some of the popular languages that Data Scientists use are:\n",
    "\n",
    "1. Python\n",
    "2. R\n",
    "3. SQL\n",
    "4. JAVA\n",
    "\n",
    " \n"
   ]
  },
  {
   "cell_type": "markdown",
   "id": "f98b4827",
   "metadata": {},
   "source": [
    "Some of the commonly used libraries used by Data Scientists include:\n",
    "    \n",
    "1. TensorFlow\n",
    "2. NumPy\n",
    "3. Pandas\n",
    "4. Matplotlib\n",
    "5. SciPy"
   ]
  },
  {
   "cell_type": "markdown",
   "id": "3c1cb125",
   "metadata": {},
   "source": [
    "No | Data Science Tools    |\n",
    "--|:---------|\n",
    "1|Jupyter Notebook  |\n",
    "2|TensorFlow  |\n",
    "3|MFlow|\n",
    "4|R Studio|"
   ]
  },
  {
   "cell_type": "markdown",
   "id": "36c29421",
   "metadata": {},
   "source": [
    "### Below are a few examples of evaluating arithmetic expressions in Python."
   ]
  },
  {
   "cell_type": "code",
   "execution_count": 2,
   "id": "b49a3dc6",
   "metadata": {},
   "outputs": [
    {
     "data": {
      "text/plain": [
       "17"
      ]
     },
     "execution_count": 2,
     "metadata": {},
     "output_type": "execute_result"
    }
   ],
   "source": [
    "# This a simple arithmetic expression to mutiply then add integers\n",
    "(3*4)+5"
   ]
  },
  {
   "cell_type": "code",
   "execution_count": 3,
   "id": "e5158ae2",
   "metadata": {},
   "outputs": [
    {
     "data": {
      "text/plain": [
       "3.3333333333333335"
      ]
     },
     "execution_count": 3,
     "metadata": {},
     "output_type": "execute_result"
    }
   ],
   "source": [
    "# This will convert 200 minutes to hours by diving by 60.\n",
    "200/60"
   ]
  },
  {
   "cell_type": "markdown",
   "id": "7178e5bf",
   "metadata": {},
   "source": [
    "## Author :\n",
    "\n",
    "Hetansh Haria"
   ]
  },
  {
   "cell_type": "code",
   "execution_count": null,
   "id": "b367fbd9",
   "metadata": {},
   "outputs": [],
   "source": []
  }
 ],
 "metadata": {
  "kernelspec": {
   "display_name": "Python 3 (ipykernel)",
   "language": "python",
   "name": "python3"
  },
  "language_info": {
   "codemirror_mode": {
    "name": "ipython",
    "version": 3
   },
   "file_extension": ".py",
   "mimetype": "text/x-python",
   "name": "python",
   "nbconvert_exporter": "python",
   "pygments_lexer": "ipython3",
   "version": "3.10.2"
  }
 },
 "nbformat": 4,
 "nbformat_minor": 5
}
